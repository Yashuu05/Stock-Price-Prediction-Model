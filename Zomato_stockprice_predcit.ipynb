{
  "nbformat": 4,
  "nbformat_minor": 0,
  "metadata": {
    "colab": {
      "provenance": []
    },
    "kernelspec": {
      "name": "python3",
      "display_name": "Python 3"
    },
    "language_info": {
      "name": "python"
    }
  },
  "cells": [
    {
      "cell_type": "markdown",
      "source": [
        "# Step 1 : import Libraries"
      ],
      "metadata": {
        "id": "y1CR0oP4dQia"
      }
    },
    {
      "cell_type": "code",
      "execution_count": null,
      "metadata": {
        "id": "w9JRnBxpyi0m"
      },
      "outputs": [],
      "source": [
        "import pandas as pd\n",
        "from sklearn.model_selection import train_test_split\n",
        "from sklearn.preprocessing import StandardScaler\n",
        "from sklearn.ensemble import RandomForestRegressor\n",
        "from sklearn.metrics import mean_absolute_error, mean_squared_error"
      ]
    },
    {
      "cell_type": "markdown",
      "source": [
        "# step 2: Load the dataset"
      ],
      "metadata": {
        "id": "ZxwN44QVdYFP"
      }
    },
    {
      "cell_type": "code",
      "source": [
        "# Load the dataset CSV file\n",
        "df = pd.read_csv('/content/zomato.csv')\n",
        "\n",
        "# Preview the last 5 rows\n",
        "print(df.tail())\n"
      ],
      "metadata": {
        "id": "AYdW8rQpy_ed",
        "collapsed": true
      },
      "execution_count": null,
      "outputs": []
    },
    {
      "cell_type": "markdown",
      "source": [
        "# Step 3: create required features and labels for model training"
      ],
      "metadata": {
        "id": "Uw44P-0XdcjY"
      }
    },
    {
      "cell_type": "code",
      "source": [
        "# Convert 'Date' column to datetime\n",
        "df['Date'] = pd.to_datetime(df['Date'])\n",
        "\n",
        "# Extract date features\n",
        "df['DayOfWeek'] = df['Date'].dt.dayofweek\n",
        "df['Month'] = df['Date'].dt.month\n",
        "df['Year'] = df['Date'].dt.year\n",
        "\n",
        "# Create the target column: Next Day Close Price\n",
        "df['Next_Close'] = df['Close'].shift(-1)\n",
        "\n",
        "# Drop the last row from target (as it is a null value)\n",
        "df = df.dropna()\n",
        "\n",
        "print(df[['Date', 'Open', 'High', 'Low', 'Close', 'Next_Close', 'DayOfWeek', 'Month', 'Year', 'Volume']].tail())"
      ],
      "metadata": {
        "id": "J3bbo8BYzNAL"
      },
      "execution_count": null,
      "outputs": []
    },
    {
      "cell_type": "markdown",
      "source": [
        "# Step 4: Define input and output datasets"
      ],
      "metadata": {
        "id": "X76fSdgzdlhj"
      }
    },
    {
      "cell_type": "code",
      "source": [
        "# Define input features\n",
        "X = df[['Open', 'High', 'Low', 'Close', 'Volume', 'DayOfWeek', 'Month', 'Year']]\n",
        "\n",
        "# Define target output\n",
        "y = df['Next_Close']"
      ],
      "metadata": {
        "id": "UIqLx750zh6b"
      },
      "execution_count": null,
      "outputs": []
    },
    {
      "cell_type": "markdown",
      "source": [
        "# Step 5: Split dataset into training and test"
      ],
      "metadata": {
        "id": "_PGQ72ghdr35"
      }
    },
    {
      "cell_type": "code",
      "source": [
        "split_index = int(len(df) * 0.8)\n",
        "\n",
        "X_train, X_test = X[:split_index], X[split_index:]\n",
        "y_train, y_test = y[:split_index], y[split_index:]\n"
      ],
      "metadata": {
        "id": "CigtwIdhz5o9"
      },
      "execution_count": null,
      "outputs": []
    },
    {
      "cell_type": "markdown",
      "source": [
        "# Step 6 : Use Standard Scalar"
      ],
      "metadata": {
        "id": "BN5nFe2Idyf7"
      }
    },
    {
      "cell_type": "code",
      "source": [
        "scaler = StandardScaler()\n",
        "\n",
        "X_train_scaled = scaler.fit_transform(X_train)\n",
        "X_test_scaled = scaler.transform(X_test)"
      ],
      "metadata": {
        "id": "ypsHWNkTz8Hl"
      },
      "execution_count": null,
      "outputs": []
    },
    {
      "cell_type": "markdown",
      "source": [
        "# step 7: Deinfe Model and fit"
      ],
      "metadata": {
        "id": "kRz9geOUd22P"
      }
    },
    {
      "cell_type": "code",
      "source": [
        "model = RandomForestRegressor(n_estimators=100, random_state=42)\n",
        "model.fit(X_train_scaled, y_train)"
      ],
      "metadata": {
        "collapsed": true,
        "id": "8dkdEd-p0Axj"
      },
      "execution_count": null,
      "outputs": []
    },
    {
      "cell_type": "markdown",
      "source": [
        "# step 8: Predict output from trained model and calculate Mean Absolute Error, R2 score"
      ],
      "metadata": {
        "id": "YKudZwymd9V1"
      }
    },
    {
      "cell_type": "code",
      "source": [
        "y_pred = model.predict(X_test_scaled)\n",
        "\n",
        "mae = mean_absolute_error(y_test, y_pred)\n",
        "\n",
        "print(f'MAE: {mae}')"
      ],
      "metadata": {
        "id": "ua9l_EZs0Jjs"
      },
      "execution_count": null,
      "outputs": []
    },
    {
      "cell_type": "code",
      "source": [
        "from sklearn.metrics import r2_score\n",
        "r2_score = r2_score(y_test, y_pred)\n",
        "print(f'R2 Score: {r2_score}')"
      ],
      "metadata": {
        "id": "vLTCitAJ0aaB"
      },
      "execution_count": null,
      "outputs": []
    },
    {
      "cell_type": "markdown",
      "source": [
        "# Step 9: Save the model"
      ],
      "metadata": {
        "id": "qZ69vI18eLc7"
      }
    },
    {
      "cell_type": "code",
      "source": [
        "import joblib\n",
        "# save model\n",
        "joblib.dump(model, \"Model.pkl\")\n",
        "joblib.dump(scaler, \"Scaler.pkl\")\n",
        "print(\"model saved\")"
      ],
      "metadata": {
        "id": "kB8YJTE90i1Q"
      },
      "execution_count": null,
      "outputs": []
    },
    {
      "cell_type": "markdown",
      "source": [
        "# Step 10: load the model"
      ],
      "metadata": {
        "id": "_WRovYx0ePZW"
      }
    },
    {
      "cell_type": "code",
      "source": [
        "Model = joblib.load(\"Model.pkl\")\n",
        "scaler = joblib.load(\"Scaler.pkl\")\n",
        "print(\"model lodeded.\")"
      ],
      "metadata": {
        "id": "aZNXTkdn08Fl"
      },
      "execution_count": null,
      "outputs": []
    },
    {
      "cell_type": "markdown",
      "source": [
        "# Step 11: Create function to predict the Price"
      ],
      "metadata": {
        "id": "yJkFUAdHeS2p"
      }
    },
    {
      "cell_type": "code",
      "source": [
        "import numpy as np\n",
        "def predict_stock_price(open, high, low, close, volume, date_str):\n",
        "  # convert string to datetime\n",
        "  date = pd.to_datetime(date_str)\n",
        "  # extract date features\n",
        "  day_of_week = date.dayofweek\n",
        "  month = date.month\n",
        "  year = date.year\n",
        "\n",
        "  # create a numpy array\n",
        "  input_data = np.array([[open, high, low, close, volume, day_of_week, month, year]])\n",
        "  input_scaled = scaler.transform(input_data)\n",
        "  result = Model.predict(input_scaled)\n",
        "  return result[0]\n"
      ],
      "metadata": {
        "id": "gKdsXa0O1Uor"
      },
      "execution_count": null,
      "outputs": []
    },
    {
      "cell_type": "markdown",
      "source": [
        "# Step 12: Use Model"
      ],
      "metadata": {
        "id": "j25jD2RJeXDr"
      }
    },
    {
      "cell_type": "code",
      "source": [
        "# take input from user:\n",
        "open = float(input(\"Enter the open price: \"))\n",
        "if open < 0:\n",
        "  print(\"invalid input\")\n",
        "  exit()\n",
        "high = float(input(\"enter high: \"))\n",
        "if high < 0:\n",
        "  print(\"invalid input\")\n",
        "  exit()\n",
        "low = float(input(\"enter low: \"))\n",
        "if low < 0:\n",
        "  print(\"invalid input\")\n",
        "  exit()\n",
        "close = float(input(\"enter close: \"))\n",
        "if close < 0:\n",
        "  print(\"invalid input\")\n",
        "  exit()\n",
        "volume = float(input(\"enter volume: \"))\n",
        "if volume < 0:\n",
        "  print(\"invalid input\")\n",
        "  exit()\n",
        "date = input(\"enter date [eg: year-month-date]: \")\n",
        "if date == \"\":\n",
        "  print(\"invalid input\")\n",
        "  exit()\n",
        "# call the function\n",
        "StockPrice = predict_stock_price(open, high, low, close, volume, date)\n",
        "print(f\"stock pricee : Rs {StockPrice:.2f}\")"
      ],
      "metadata": {
        "id": "OTiB07nX4mzY"
      },
      "execution_count": null,
      "outputs": []
    }
  ]
}